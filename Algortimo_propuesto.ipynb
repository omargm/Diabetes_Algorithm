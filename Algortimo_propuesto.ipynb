{
 "cells": [
  {
   "cell_type": "code",
   "execution_count": null,
   "metadata": {
    "id": "9yk61xbF2BUC"
   },
   "outputs": [],
   "source": [
    "import pandas as pd\n",
    "import numpy as np\n"
   ]
  },
  {
   "cell_type": "markdown",
   "metadata": {
    "id": "90SlcPs22UTi"
   },
   "source": [
    "### Cargar archivo"
   ]
  },
  {
   "cell_type": "code",
   "execution_count": null,
   "metadata": {
    "colab": {
     "base_uri": "https://localhost:8080/"
    },
    "id": "0MAFxnka2pBz",
    "outputId": "9a7aaaaa-f753-4fb1-db2d-1d9b7516579d"
   },
   "outputs": [
    {
     "name": "stdout",
     "output_type": "stream",
     "text": [
      "title: bd_Hermosillo.xlsx, mimeType: application/vnd.openxmlformats-officedocument.spreadsheetml.sheet\n"
     ]
    }
   ],
   "source": [
    "#2. Cargar archivo.\n",
    "\n",
    "file_id='#'\n",
    "downloaded = drive.CreateFile({'id': file_id})\n",
    "print('title: %s, mimeType: %s' % (downloaded['title'], downloaded['mimeType']))\n",
    "downloaded.GetContentFile(downloaded['title'],mimetype='application/vnd.openxmlformats-officedocument.spreadsheetml.sheet')\n",
    "\n",
    "df = pd.read_excel(downloaded['title'],sheet_name='Hoja1')"
   ]
  },
  {
   "cell_type": "code",
   "execution_count": null,
   "metadata": {
    "colab": {
     "base_uri": "https://localhost:8080/",
     "height": 317
    },
    "id": "72_V8VdzAy5M",
    "outputId": "8cf2d8f6-07b7-4279-9c2c-ee2540708548"
   },
   "outputs": [
    {
     "data": {
      "text/html": [
       "\n",
       "  <div id=\"df-a7285f62-070b-460b-8af0-8b95b60f3a14\">\n",
       "    <div class=\"colab-df-container\">\n",
       "      <div>\n",
       "<style scoped>\n",
       "    .dataframe tbody tr th:only-of-type {\n",
       "        vertical-align: middle;\n",
       "    }\n",
       "\n",
       "    .dataframe tbody tr th {\n",
       "        vertical-align: top;\n",
       "    }\n",
       "\n",
       "    .dataframe thead th {\n",
       "        text-align: right;\n",
       "    }\n",
       "</style>\n",
       "<table border=\"1\" class=\"dataframe\">\n",
       "  <thead>\n",
       "    <tr style=\"text-align: right;\">\n",
       "      <th></th>\n",
       "      <th>HASHAFILIA</th>\n",
       "      <th>EXPEDIENTE</th>\n",
       "      <th>GPO EDAD</th>\n",
       "      <th>EDAD</th>\n",
       "      <th>SEXO</th>\n",
       "      <th>DIABETES</th>\n",
       "      <th>ESPOSA</th>\n",
       "      <th>ESPOSO</th>\n",
       "      <th>HIJA</th>\n",
       "      <th>HIJO</th>\n",
       "      <th>...</th>\n",
       "      <th>ASEGURADO</th>\n",
       "      <th>CARDIOVASCULAR</th>\n",
       "      <th>GASTROPARESIA</th>\n",
       "      <th>NEUROPATIA</th>\n",
       "      <th>NEFROPATIA</th>\n",
       "      <th>AUDITIVA</th>\n",
       "      <th>PIEL</th>\n",
       "      <th>ATROPATIA</th>\n",
       "      <th>OBESIDAD</th>\n",
       "      <th>OCULAR</th>\n",
       "    </tr>\n",
       "  </thead>\n",
       "  <tbody>\n",
       "    <tr>\n",
       "      <th>0</th>\n",
       "      <td>482523</td>\n",
       "      <td>6513</td>\n",
       "      <td>13</td>\n",
       "      <td>79</td>\n",
       "      <td>0</td>\n",
       "      <td>0</td>\n",
       "      <td>0</td>\n",
       "      <td>0</td>\n",
       "      <td>0</td>\n",
       "      <td>0</td>\n",
       "      <td>...</td>\n",
       "      <td>0</td>\n",
       "      <td>0</td>\n",
       "      <td>0</td>\n",
       "      <td>0</td>\n",
       "      <td>0</td>\n",
       "      <td>0</td>\n",
       "      <td>0</td>\n",
       "      <td>0</td>\n",
       "      <td>0</td>\n",
       "      <td>0</td>\n",
       "    </tr>\n",
       "    <tr>\n",
       "      <th>1</th>\n",
       "      <td>482524</td>\n",
       "      <td>6513</td>\n",
       "      <td>13</td>\n",
       "      <td>74</td>\n",
       "      <td>1</td>\n",
       "      <td>0</td>\n",
       "      <td>0</td>\n",
       "      <td>0</td>\n",
       "      <td>0</td>\n",
       "      <td>0</td>\n",
       "      <td>...</td>\n",
       "      <td>0</td>\n",
       "      <td>1</td>\n",
       "      <td>0</td>\n",
       "      <td>0</td>\n",
       "      <td>0</td>\n",
       "      <td>0</td>\n",
       "      <td>0</td>\n",
       "      <td>0</td>\n",
       "      <td>0</td>\n",
       "      <td>0</td>\n",
       "    </tr>\n",
       "    <tr>\n",
       "      <th>2</th>\n",
       "      <td>482624</td>\n",
       "      <td>20078</td>\n",
       "      <td>13</td>\n",
       "      <td>68</td>\n",
       "      <td>1</td>\n",
       "      <td>0</td>\n",
       "      <td>0</td>\n",
       "      <td>0</td>\n",
       "      <td>0</td>\n",
       "      <td>0</td>\n",
       "      <td>...</td>\n",
       "      <td>0</td>\n",
       "      <td>0</td>\n",
       "      <td>0</td>\n",
       "      <td>0</td>\n",
       "      <td>0</td>\n",
       "      <td>0</td>\n",
       "      <td>0</td>\n",
       "      <td>0</td>\n",
       "      <td>0</td>\n",
       "      <td>0</td>\n",
       "    </tr>\n",
       "    <tr>\n",
       "      <th>3</th>\n",
       "      <td>482976</td>\n",
       "      <td>16795</td>\n",
       "      <td>10</td>\n",
       "      <td>54</td>\n",
       "      <td>1</td>\n",
       "      <td>0</td>\n",
       "      <td>1</td>\n",
       "      <td>0</td>\n",
       "      <td>0</td>\n",
       "      <td>0</td>\n",
       "      <td>...</td>\n",
       "      <td>1</td>\n",
       "      <td>0</td>\n",
       "      <td>0</td>\n",
       "      <td>0</td>\n",
       "      <td>0</td>\n",
       "      <td>0</td>\n",
       "      <td>0</td>\n",
       "      <td>0</td>\n",
       "      <td>0</td>\n",
       "      <td>0</td>\n",
       "    </tr>\n",
       "    <tr>\n",
       "      <th>4</th>\n",
       "      <td>483075</td>\n",
       "      <td>23367</td>\n",
       "      <td>10</td>\n",
       "      <td>52</td>\n",
       "      <td>0</td>\n",
       "      <td>1</td>\n",
       "      <td>0</td>\n",
       "      <td>1</td>\n",
       "      <td>0</td>\n",
       "      <td>0</td>\n",
       "      <td>...</td>\n",
       "      <td>1</td>\n",
       "      <td>0</td>\n",
       "      <td>0</td>\n",
       "      <td>0</td>\n",
       "      <td>0</td>\n",
       "      <td>0</td>\n",
       "      <td>0</td>\n",
       "      <td>0</td>\n",
       "      <td>0</td>\n",
       "      <td>0</td>\n",
       "    </tr>\n",
       "  </tbody>\n",
       "</table>\n",
       "<p>5 rows × 22 columns</p>\n",
       "</div>\n",
       "      <button class=\"colab-df-convert\" onclick=\"convertToInteractive('df-a7285f62-070b-460b-8af0-8b95b60f3a14')\"\n",
       "              title=\"Convert this dataframe to an interactive table.\"\n",
       "              style=\"display:none;\">\n",
       "        \n",
       "  <svg xmlns=\"http://www.w3.org/2000/svg\" height=\"24px\"viewBox=\"0 0 24 24\"\n",
       "       width=\"24px\">\n",
       "    <path d=\"M0 0h24v24H0V0z\" fill=\"none\"/>\n",
       "    <path d=\"M18.56 5.44l.94 2.06.94-2.06 2.06-.94-2.06-.94-.94-2.06-.94 2.06-2.06.94zm-11 1L8.5 8.5l.94-2.06 2.06-.94-2.06-.94L8.5 2.5l-.94 2.06-2.06.94zm10 10l.94 2.06.94-2.06 2.06-.94-2.06-.94-.94-2.06-.94 2.06-2.06.94z\"/><path d=\"M17.41 7.96l-1.37-1.37c-.4-.4-.92-.59-1.43-.59-.52 0-1.04.2-1.43.59L10.3 9.45l-7.72 7.72c-.78.78-.78 2.05 0 2.83L4 21.41c.39.39.9.59 1.41.59.51 0 1.02-.2 1.41-.59l7.78-7.78 2.81-2.81c.8-.78.8-2.07 0-2.86zM5.41 20L4 18.59l7.72-7.72 1.47 1.35L5.41 20z\"/>\n",
       "  </svg>\n",
       "      </button>\n",
       "      \n",
       "  <style>\n",
       "    .colab-df-container {\n",
       "      display:flex;\n",
       "      flex-wrap:wrap;\n",
       "      gap: 12px;\n",
       "    }\n",
       "\n",
       "    .colab-df-convert {\n",
       "      background-color: #E8F0FE;\n",
       "      border: none;\n",
       "      border-radius: 50%;\n",
       "      cursor: pointer;\n",
       "      display: none;\n",
       "      fill: #1967D2;\n",
       "      height: 32px;\n",
       "      padding: 0 0 0 0;\n",
       "      width: 32px;\n",
       "    }\n",
       "\n",
       "    .colab-df-convert:hover {\n",
       "      background-color: #E2EBFA;\n",
       "      box-shadow: 0px 1px 2px rgba(60, 64, 67, 0.3), 0px 1px 3px 1px rgba(60, 64, 67, 0.15);\n",
       "      fill: #174EA6;\n",
       "    }\n",
       "\n",
       "    [theme=dark] .colab-df-convert {\n",
       "      background-color: #3B4455;\n",
       "      fill: #D2E3FC;\n",
       "    }\n",
       "\n",
       "    [theme=dark] .colab-df-convert:hover {\n",
       "      background-color: #434B5C;\n",
       "      box-shadow: 0px 1px 3px 1px rgba(0, 0, 0, 0.15);\n",
       "      filter: drop-shadow(0px 1px 2px rgba(0, 0, 0, 0.3));\n",
       "      fill: #FFFFFF;\n",
       "    }\n",
       "  </style>\n",
       "\n",
       "      <script>\n",
       "        const buttonEl =\n",
       "          document.querySelector('#df-a7285f62-070b-460b-8af0-8b95b60f3a14 button.colab-df-convert');\n",
       "        buttonEl.style.display =\n",
       "          google.colab.kernel.accessAllowed ? 'block' : 'none';\n",
       "\n",
       "        async function convertToInteractive(key) {\n",
       "          const element = document.querySelector('#df-a7285f62-070b-460b-8af0-8b95b60f3a14');\n",
       "          const dataTable =\n",
       "            await google.colab.kernel.invokeFunction('convertToInteractive',\n",
       "                                                     [key], {});\n",
       "          if (!dataTable) return;\n",
       "\n",
       "          const docLinkHtml = 'Like what you see? Visit the ' +\n",
       "            '<a target=\"_blank\" href=https://colab.research.google.com/notebooks/data_table.ipynb>data table notebook</a>'\n",
       "            + ' to learn more about interactive tables.';\n",
       "          element.innerHTML = '';\n",
       "          dataTable['output_type'] = 'display_data';\n",
       "          await google.colab.output.renderOutput(dataTable, element);\n",
       "          const docLink = document.createElement('div');\n",
       "          docLink.innerHTML = docLinkHtml;\n",
       "          element.appendChild(docLink);\n",
       "        }\n",
       "      </script>\n",
       "    </div>\n",
       "  </div>\n",
       "  "
      ],
      "text/plain": [
       "   HASHAFILIA  EXPEDIENTE  GPO EDAD  EDAD  SEXO  DIABETES  ESPOSA  ESPOSO  \\\n",
       "0      482523        6513        13    79     0         0       0       0   \n",
       "1      482524        6513        13    74     1         0       0       0   \n",
       "2      482624       20078        13    68     1         0       0       0   \n",
       "3      482976       16795        10    54     1         0       1       0   \n",
       "4      483075       23367        10    52     0         1       0       1   \n",
       "\n",
       "   HIJA  HIJO  ...  ASEGURADO  CARDIOVASCULAR  GASTROPARESIA  NEUROPATIA  \\\n",
       "0     0     0  ...          0               0              0           0   \n",
       "1     0     0  ...          0               1              0           0   \n",
       "2     0     0  ...          0               0              0           0   \n",
       "3     0     0  ...          1               0              0           0   \n",
       "4     0     0  ...          1               0              0           0   \n",
       "\n",
       "   NEFROPATIA  AUDITIVA  PIEL  ATROPATIA  OBESIDAD  OCULAR  \n",
       "0           0         0     0          0         0       0  \n",
       "1           0         0     0          0         0       0  \n",
       "2           0         0     0          0         0       0  \n",
       "3           0         0     0          0         0       0  \n",
       "4           0         0     0          0         0       0  \n",
       "\n",
       "[5 rows x 22 columns]"
      ]
     },
     "execution_count": 3,
     "metadata": {},
     "output_type": "execute_result"
    }
   ],
   "source": [
    "df.head(5)"
   ]
  },
  {
   "cell_type": "markdown",
   "metadata": {
    "id": "Np-3WFkE6y5S"
   },
   "source": [
    "### Hot encoding gpo_edad"
   ]
  },
  {
   "cell_type": "code",
   "execution_count": null,
   "metadata": {
    "id": "lX47RyHn54ZV"
   },
   "outputs": [],
   "source": [
    "df = pd.get_dummies(df, columns=['GPO EDAD'])"
   ]
  },
  {
   "cell_type": "markdown",
   "metadata": {
    "id": "z1hQYr_A7m0q"
   },
   "source": [
    "### Eliminar columna de hashafilia y expediente"
   ]
  },
  {
   "cell_type": "code",
   "execution_count": null,
   "metadata": {
    "id": "HyVqY7Rd6pvy"
   },
   "outputs": [],
   "source": [
    "#removemos Afiliacion y expediente\n",
    "df = df.drop(df.columns[[0, 1, 2, 11, 16, 18, 19, 20]], axis=1)"
   ]
  },
  {
   "cell_type": "code",
   "execution_count": null,
   "metadata": {
    "colab": {
     "base_uri": "https://localhost:8080/"
    },
    "id": "UFIQ2c6jFVsM",
    "outputId": "51a74ccd-0127-4f4e-8355-5dc6f1fe70c9"
   },
   "outputs": [
    {
     "data": {
      "text/plain": [
       "['SEXO',\n",
       " 'DIABETES',\n",
       " 'ESPOSA',\n",
       " 'ESPOSO',\n",
       " 'HIJA',\n",
       " 'HIJO',\n",
       " 'MADRE',\n",
       " 'PADRE',\n",
       " 'CARDIOVASCULAR',\n",
       " 'GASTROPARESIA',\n",
       " 'NEUROPATIA',\n",
       " 'NEFROPATIA',\n",
       " 'PIEL',\n",
       " 'GPO EDAD_0',\n",
       " 'GPO EDAD_1',\n",
       " 'GPO EDAD_2',\n",
       " 'GPO EDAD_3',\n",
       " 'GPO EDAD_4',\n",
       " 'GPO EDAD_5',\n",
       " 'GPO EDAD_6',\n",
       " 'GPO EDAD_7',\n",
       " 'GPO EDAD_8',\n",
       " 'GPO EDAD_9',\n",
       " 'GPO EDAD_10',\n",
       " 'GPO EDAD_11',\n",
       " 'GPO EDAD_12',\n",
       " 'GPO EDAD_13']"
      ]
     },
     "execution_count": 7,
     "metadata": {},
     "output_type": "execute_result"
    }
   ],
   "source": [
    "#obtenemos las columnas del dataframe\n",
    "columnas = list(df.columns.values)\n",
    "columnas"
   ]
  },
  {
   "cell_type": "code",
   "execution_count": null,
   "metadata": {
    "colab": {
     "base_uri": "https://localhost:8080/"
    },
    "id": "-P-K2ChQCbIh",
    "outputId": "7ce4a021-d6a5-4a20-91d0-9e072925cee3"
   },
   "outputs": [
    {
     "name": "stdout",
     "output_type": "stream",
     "text": [
      "             SEXO  DIABETES    ESPOSA    ESPOSO  HIJA  HIJO     MADRE  \\\n",
      "cluster                                                                 \n",
      "0        0.000000  0.128543  0.000000  0.983627   0.0   0.0  0.000000   \n",
      "1        1.000000  0.001487  0.000000  0.000000   1.0   0.0  0.000000   \n",
      "2        0.000000  0.001074  0.000000  0.000000   0.0   1.0  0.000000   \n",
      "3        0.994699  0.090277  0.975981  0.000000   0.0   0.0  0.020706   \n",
      "4        0.993464  0.035131  0.998366  0.000000   0.0   0.0  0.000000   \n",
      "\n",
      "            PADRE  CARDIOVASCULAR  GASTROPARESIA  ...  GPO EDAD_4  GPO EDAD_5  \\\n",
      "cluster                                           ...                           \n",
      "0        0.010508        0.156403       0.049120  ...    0.002444    0.022727   \n",
      "1        0.000000        0.013380       0.044846  ...    0.114470    0.007681   \n",
      "2        0.000000        0.018523       0.046711  ...    0.066577    0.000268   \n",
      "3        0.000000        0.093258       0.040914  ...    0.001822    0.052510   \n",
      "4        0.000000        0.057190       0.043301  ...    0.000000    0.000000   \n",
      "\n",
      "         GPO EDAD_6  GPO EDAD_7  GPO EDAD_8  GPO EDAD_9  GPO EDAD_10  \\\n",
      "cluster                                                                \n",
      "0          0.074291    0.109238    0.132209    0.121457     0.106794   \n",
      "1          0.000000    0.000000    0.000000    0.000000     0.000000   \n",
      "2          0.000000    0.000000    0.000000    0.000000     0.000000   \n",
      "3          0.116117    0.170449    0.000000    0.196290     0.149578   \n",
      "4          0.000000    0.000000    1.000000    0.000000     0.000000   \n",
      "\n",
      "         GPO EDAD_11  GPO EDAD_12  GPO EDAD_13  \n",
      "cluster                                         \n",
      "0           0.113636     0.109238     0.207234  \n",
      "1           0.000000     0.000000     0.000000  \n",
      "2           0.000000     0.000000     0.000000  \n",
      "3           0.109160     0.081829     0.122246  \n",
      "4           0.000000     0.000000     0.000000  \n",
      "\n",
      "[5 rows x 27 columns]\n"
     ]
    }
   ],
   "source": [
    "#iniciamos el proceso de Clustering\n",
    "#importamos el algoritmo de K-means de Science-Kit de Python\n",
    "from sklearn.cluster import KMeans\n",
    "\n",
    "df_copy = df.copy()\n",
    "#cluster the data\n",
    "kmeans = KMeans(n_clusters=5, random_state=0).fit(df_copy)\n",
    "labels = kmeans.labels_\n",
    "y_kmeans = kmeans.predict(df_copy)\n",
    "\n",
    "#merge the labels\n",
    "df_copy['cluster'] = labels\n",
    "\n",
    "#get centroids #omar\n",
    "centroids = kmeans.cluster_centers_\n",
    "\n",
    "#Add the column into our list\n",
    "columnas.extend(['cluster'])\n",
    "\n",
    "#Lets analyze the clusters\n",
    "print (df_copy[columnas].groupby(['cluster']).mean())"
   ]
  },
  {
   "cell_type": "code",
   "execution_count": null,
   "metadata": {
    "colab": {
     "base_uri": "https://localhost:8080/"
    },
    "id": "SuSp1SvJtdpl",
    "outputId": "1ee4b0d2-9cd1-4415-ccee-6ad5aca7359b"
   },
   "outputs": [
    {
     "name": "stdout",
     "output_type": "stream",
     "text": [
      "[[-1.37667655e-14  1.28543500e-01 -7.54951657e-15  9.83626588e-01\n",
      "  -6.10622664e-15 -8.52096171e-15  1.25767452e-16  1.05083089e-02\n",
      "   1.56402737e-01  4.91202346e-02  2.76148583e-02  1.29521017e-02\n",
      "   1.71065494e-02  6.80011603e-16  2.44379277e-04  2.44379277e-04\n",
      "   2.44379277e-04  2.44379277e-03  2.27272727e-02  7.42913001e-02\n",
      "   1.09237537e-01  1.32209189e-01  1.21456500e-01  1.06793744e-01\n",
      "   1.13636364e-01  1.09237537e-01  2.07233627e-01]\n",
      " [ 1.00000000e+00  1.48662042e-03 -7.43849426e-15  4.52415883e-15\n",
      "   1.00000000e+00 -8.27116153e-15  1.26634814e-16  3.33934269e-17\n",
      "   1.33795837e-02  4.48463826e-02  3.46878097e-03  2.10604559e-02\n",
      "   9.66303271e-03  1.85827552e-01  2.67096135e-01  2.24727453e-01\n",
      "   2.00198216e-01  1.14469772e-01  7.68087215e-03 -8.32667268e-16\n",
      "   1.38777878e-15  1.73472348e-15  2.52575738e-15  4.44089210e-16\n",
      "   1.11716192e-15 -4.16333634e-16 -4.30211422e-16]\n",
      " [-1.18793864e-14  1.07382550e-03 -6.82787160e-15  4.27435864e-15\n",
      "  -7.07767178e-15  1.00000000e+00  1.24900090e-16  3.29597460e-17\n",
      "   1.85234899e-02  4.67114094e-02  1.61073826e-03  6.44295302e-03\n",
      "   1.28859060e-02  2.04295302e-01  2.82953020e-01  2.60402685e-01\n",
      "   1.85503356e-01  6.65771812e-02  2.68456376e-04 -8.18789481e-16\n",
      "   1.13797860e-15  1.08246745e-15  2.35922393e-15  7.21644966e-16\n",
      "   1.06165077e-15 -4.02455846e-16 -1.38777878e-16]\n",
      " [ 9.94699354e-01  9.02766275e-02  9.75981448e-01 -5.44009282e-15\n",
      "   2.44249065e-15 -6.18949336e-15  2.07056485e-02  3.51281504e-17\n",
      "   9.32582408e-02  4.09143614e-02  2.45154878e-02  3.52824250e-02\n",
      "   1.27546795e-02  2.69229083e-15  7.82707232e-15 -3.33066907e-15\n",
      "   1.47104551e-15  1.82209707e-03  5.25095246e-02  1.16117277e-01\n",
      "   1.70448898e-01  4.31599201e-15  1.96289548e-01  1.49577605e-01\n",
      "   1.09160179e-01  8.18287229e-02  1.22246149e-01]\n",
      " [ 9.93464052e-01  3.51307190e-02  9.98366013e-01 -2.35922393e-15\n",
      "   1.33226763e-15  1.44328993e-15  6.33174069e-17  2.21177243e-17\n",
      "   5.71895425e-02  4.33006536e-02  1.55228758e-02  4.82026144e-02\n",
      "   1.22549020e-02 -8.46545056e-16 -7.07767178e-16  5.68989300e-16\n",
      "   5.55111512e-17 -1.52655666e-16  1.73472348e-16 -3.67761377e-16\n",
      "  -9.15933995e-16  1.00000000e+00 -8.32667268e-16  7.07767178e-16\n",
      "  -5.41233725e-16 -3.81639165e-16 -1.08246745e-15]]\n"
     ]
    }
   ],
   "source": [
    "print(kmeans.cluster_centers_)"
   ]
  },
  {
   "cell_type": "markdown",
   "metadata": {
    "id": "eLC6qs0UCEHh"
   },
   "source": [
    "### Método del codo para deterimnar el valor de k"
   ]
  },
  {
   "cell_type": "code",
   "execution_count": null,
   "metadata": {
    "colab": {
     "base_uri": "https://localhost:8080/",
     "height": 544
    },
    "id": "efqU2Y2xCCjJ",
    "outputId": "b9007935-428e-4139-f2ee-0d4d1dcfc650"
   },
   "outputs": [
    {
     "name": "stdout",
     "output_type": "stream",
     "text": [
      "[70963.19938265227]\n",
      "[70963.19938265227, 40747.42695178914]\n",
      "[70963.19938265227, 40747.42695178914, 29194.827011089874]\n",
      "[70963.19938265227, 40747.42695178914, 29194.827011089874, 21437.209283276694]\n",
      "[70963.19938265227, 40747.42695178914, 29194.827011089874, 21437.209283276694, 19254.023480548552]\n",
      "[70963.19938265227, 40747.42695178914, 29194.827011089874, 21437.209283276694, 19254.023480548552, 18149.82656725977]\n",
      "[70963.19938265227, 40747.42695178914, 29194.827011089874, 21437.209283276694, 19254.023480548552, 18149.82656725977, 17156.259286259825]\n",
      "[70963.19938265227, 40747.42695178914, 29194.827011089874, 21437.209283276694, 19254.023480548552, 18149.82656725977, 17156.259286259825, 16286.84954367832]\n",
      "[70963.19938265227, 40747.42695178914, 29194.827011089874, 21437.209283276694, 19254.023480548552, 18149.82656725977, 17156.259286259825, 16286.84954367832, 15529.484300758751]\n"
     ]
    },
    {
     "data": {
      "image/png": "[encoded data removed]",
      "text/plain": [
       "<Figure size 432x432 with 1 Axes>"
      ]
     },
     "metadata": {
      "needs_background": "light"
     },
     "output_type": "display_data"
    }
   ],
   "source": [
    "import matplotlib.pyplot as plt\n",
    "sse = []\n",
    "list_k = list(range(1, 10))\n",
    "\n",
    "for k in list_k:\n",
    "    km = KMeans(n_clusters=k)\n",
    "    km.fit(df_copy)\n",
    "    sse.append(km.inertia_)\n",
    "    print(sse)\n",
    "\n",
    "# Plot sse against k\n",
    "codo = plt.figure(figsize=(6, 6))\n",
    "plt.plot(list_k, sse)\n",
    "plt.xlabel(r'Cluster number (k value)')\n",
    "plt.ylabel('Sum of squared distances');\n",
    "plt.axvline(x=5, c='r', ls='dotted')\n",
    "codo.show()"
   ]
  },
  {
   "cell_type": "markdown",
   "metadata": {
    "id": "RrcYHf5yHKkc"
   },
   "source": [
    "# Evaluación"
   ]
  },
  {
   "cell_type": "markdown",
   "metadata": {
    "id": "XUQE4mNRIPPa"
   },
   "source": [
    "### SSE"
   ]
  },
  {
   "cell_type": "code",
   "execution_count": null,
   "metadata": {
    "colab": {
     "base_uri": "https://localhost:8080/"
    },
    "id": "ILQukicSHNRo",
    "outputId": "d88dd98c-b698-4529-b93b-2251351acd8b"
   },
   "outputs": [
    {
     "name": "stdout",
     "output_type": "stream",
     "text": [
      "19254.02348054855\n"
     ]
    }
   ],
   "source": [
    "print(kmeans.inertia_)"
   ]
  },
  {
   "cell_type": "markdown",
   "metadata": {
    "id": "A6kM1WQhISvo"
   },
   "source": [
    "### Distancia Intercluster"
   ]
  },
  {
   "cell_type": "code",
   "execution_count": null,
   "metadata": {
    "id": "WurS-VJ1JLQa"
   },
   "outputs": [],
   "source": [
    "from sklearn.metrics.pairwise import euclidean_distances\n",
    "\n",
    "dists = euclidean_distances(kmeans.cluster_centers_)\n",
    "tri_dists = dists[np.triu_indices(5, 1)]\n",
    "max_dist, avg_dist, min_dist = tri_dists.max(), tri_dists.mean(), tri_dists.min()"
   ]
  },
  {
   "cell_type": "code",
   "execution_count": null,
   "metadata": {
    "colab": {
     "base_uri": "https://localhost:8080/"
    },
    "id": "v9jMKxYZJOH_",
    "outputId": "d8a7fda2-c8b1-4c5e-9fe8-4a0f61a2bb29"
   },
   "outputs": [
    {
     "name": "stdout",
     "output_type": "stream",
     "text": [
      "1.7036769928437479\n"
     ]
    }
   ],
   "source": [
    "# Distancia promedio inter-cluster (utilizando centroides)\n",
    "print(avg_dist)"
   ]
  },
  {
   "cell_type": "markdown",
   "metadata": {
    "id": "wX7zQh2cJnEw"
   },
   "source": [
    "### Distancia Intracluster"
   ]
  },
  {
   "cell_type": "code",
   "execution_count": null,
   "metadata": {
    "id": "mfHd3QCdJSpq"
   },
   "outputs": [],
   "source": [
    "from scipy.spatial import distance_matrix\n",
    "dist_mat = pd.DataFrame(distance_matrix(df.values, centroids))"
   ]
  },
  {
   "cell_type": "code",
   "execution_count": null,
   "metadata": {
    "colab": {
     "base_uri": "https://localhost:8080/"
    },
    "id": "uSFrCJkTJ_j_",
    "outputId": "da7bc19d-5f8f-4b6c-e84f-530f3b19fd60"
   },
   "outputs": [
    {
     "name": "stdout",
     "output_type": "stream",
     "text": [
      "[ True]\n"
     ]
    }
   ],
   "source": [
    "#Comprobar que el calculo de dist_mat sea correcto // Solo valores True\n",
    "comprobar = pd.DataFrame(dist_mat.idxmin(axis=1) == y_kmeans)\n",
    "print(comprobar[0].unique())"
   ]
  },
  {
   "cell_type": "code",
   "execution_count": null,
   "metadata": {
    "colab": {
     "base_uri": "https://localhost:8080/"
    },
    "id": "TQOs4FIUKCgY",
    "outputId": "a517eac0-49f1-4496-b5ab-fa702734e121"
   },
   "outputs": [
    {
     "name": "stdout",
     "output_type": "stream",
     "text": [
      "          0         1         2         3         4\n",
      "0  1.097451  2.137990  1.893436  2.045827  2.244281\n",
      "1  2.054360  0.928818  1.969854  1.786749  2.021814\n",
      "2  1.792342  1.963670  0.914976  2.043930  2.251593\n",
      "3  2.032490  1.866780  2.120751  1.065490  1.517153\n",
      "4  2.009608  1.846186  2.101804  1.154106  0.279009\n"
     ]
    }
   ],
   "source": [
    "#Las columnas denotan el número de centroide y las filas la distancia media de los puntos en un grupo.\n",
    "intra = dist_mat.groupby(y_kmeans).mean()\n",
    "print(intra)"
   ]
  },
  {
   "cell_type": "code",
   "execution_count": null,
   "metadata": {
    "colab": {
     "base_uri": "https://localhost:8080/"
    },
    "id": "8g7trR9FB-Ov",
    "outputId": "7e27e250-5db7-4813-fc82-588ca707c9ef"
   },
   "outputs": [
    {
     "name": "stdout",
     "output_type": "stream",
     "text": [
      "0.8571485630292806\n"
     ]
    }
   ],
   "source": [
    "#Promedio de la diagonal principal\n",
    "dist_intra = (np.trace(intra)/len(intra.columns))\n",
    "print(dist_intra)"
   ]
  },
  {
   "cell_type": "markdown",
   "metadata": {
    "id": "w0grjSfmKJt_"
   },
   "source": [
    "### The Davies–Bouldin index (DBI)"
   ]
  },
  {
   "cell_type": "code",
   "execution_count": null,
   "metadata": {
    "colab": {
     "base_uri": "https://localhost:8080/"
    },
    "id": "6PyUBPD9KOgn",
    "outputId": "e16eb7a2-c465-4633-a99a-bc114de55387"
   },
   "outputs": [
    {
     "name": "stdout",
     "output_type": "stream",
     "text": [
      "0.9534322808249446\n"
     ]
    }
   ],
   "source": [
    "from sklearn.metrics import davies_bouldin_score\n",
    "print(davies_bouldin_score(df_copy, labels))"
   ]
  },
  {
   "cell_type": "markdown",
   "metadata": {
    "id": "c0QMQgToKhiH"
   },
   "source": [
    "### Silhouette Coefficient"
   ]
  },
  {
   "cell_type": "code",
   "execution_count": null,
   "metadata": {
    "colab": {
     "base_uri": "https://localhost:8080/"
    },
    "id": "G1SayzYCKjB3",
    "outputId": "fcb94026-582e-43c5-c031-98a51b4b6c50"
   },
   "outputs": [
    {
     "name": "stdout",
     "output_type": "stream",
     "text": [
      "0.41393577504037404\n"
     ]
    }
   ],
   "source": [
    "from sklearn import metrics\n",
    "print(metrics.silhouette_score(df_copy, labels, metric='euclidean'))"
   ]
  },
  {
   "cell_type": "markdown",
   "metadata": {
    "id": "eNXvKwrYK0nI"
   },
   "source": [
    "### Calinski-Harabasz Index"
   ]
  },
  {
   "cell_type": "code",
   "execution_count": null,
   "metadata": {
    "colab": {
     "base_uri": "https://localhost:8080/"
    },
    "id": "l0An3eAeKxoH",
    "outputId": "83af5aa3-3d1f-47ac-9d64-0cdb18f2cd9c"
   },
   "outputs": [
    {
     "name": "stdout",
     "output_type": "stream",
     "text": [
      "12829.924136525357\n"
     ]
    }
   ],
   "source": [
    "print(metrics.calinski_harabasz_score(df_copy, labels))"
   ]
  },
  {
   "cell_type": "code",
   "execution_count": null,
   "metadata": {
    "id": "nnhWhMDtBwEV"
   },
   "outputs": [],
   "source": [
    "#Exportar archivo\n",
    "df_copy.to_csv('mpc_todasenf.csv')\n",
    "!cp mpc_todasenf.csv drive/My\\ Drive/"
   ]
  },
  {
   "cell_type": "code",
   "execution_count": null,
   "metadata": {
    "colab": {
     "base_uri": "https://localhost:8080/"
    },
    "id": "KyRYVFjT4AzM",
    "outputId": "a23aca1a-522d-47c0-b1c6-91149b267545"
   },
   "outputs": [
    {
     "name": "stdout",
     "output_type": "stream",
     "text": [
      "3    6037\n",
      "0    4092\n",
      "1    4036\n",
      "2    3725\n",
      "4    1224\n",
      "Name: cluster, dtype: int64\n"
     ]
    }
   ],
   "source": [
    "freq = df_copy['cluster'].value_counts()\n",
    "print(freq)"
   ]
  },
  {
   "cell_type": "code",
   "execution_count": null,
   "metadata": {
    "colab": {
     "base_uri": "https://localhost:8080/"
    },
    "id": "kayUORrD1LH9",
    "outputId": "2452bf5b-8223-445c-a816-8841cb24a917"
   },
   "outputs": [
    {
     "name": "stdout",
     "output_type": "stream",
     "text": [
      "[0 3 3 ... 3 4 3]\n"
     ]
    }
   ],
   "source": [
    "print(y_kmeans)"
   ]
  },
  {
   "cell_type": "code",
   "execution_count": null,
   "metadata": {
    "colab": {
     "base_uri": "https://localhost:8080/"
    },
    "id": "64gOwrym1jQe",
    "outputId": "5c431f93-9789-4650-fd7c-26228df3f32f"
   },
   "outputs": [
    {
     "name": "stdout",
     "output_type": "stream",
     "text": [
      "       SEXO  DIABETES  ESPOSA  ESPOSO  HIJA  HIJO  MADRE  PADRE  \\\n",
      "0         0         0       0       0     0     0      0      1   \n",
      "1         1         0       0       0     0     0      1      0   \n",
      "2         1         0       0       0     0     0      0      0   \n",
      "3         1         0       1       0     0     0      0      0   \n",
      "4         0         1       0       1     0     0      0      0   \n",
      "...     ...       ...     ...     ...   ...   ...    ...    ...   \n",
      "19109     0         0       0       0     0     1      0      0   \n",
      "19110     0         0       0       1     0     0      0      0   \n",
      "19111     1         0       1       0     0     0      0      0   \n",
      "19112     1         0       1       0     0     0      0      0   \n",
      "19113     1         0       1       0     0     0      0      0   \n",
      "\n",
      "       CARDIOVASCULAR  GASTROPARESIA  ...  GPO EDAD_5  GPO EDAD_6  GPO EDAD_7  \\\n",
      "0                   0              0  ...           0           0           0   \n",
      "1                   1              0  ...           0           0           0   \n",
      "2                   0              0  ...           0           0           0   \n",
      "3                   0              0  ...           0           0           0   \n",
      "4                   0              0  ...           0           0           0   \n",
      "...               ...            ...  ...         ...         ...         ...   \n",
      "19109               0              0  ...           0           0           0   \n",
      "19110               0              0  ...           0           1           0   \n",
      "19111               0              0  ...           1           0           0   \n",
      "19112               0              0  ...           0           0           0   \n",
      "19113               0              0  ...           0           0           1   \n",
      "\n",
      "       GPO EDAD_8  GPO EDAD_9  GPO EDAD_10  GPO EDAD_11  GPO EDAD_12  \\\n",
      "0               0           0            0            0            0   \n",
      "1               0           0            0            0            0   \n",
      "2               0           0            0            0            0   \n",
      "3               0           0            1            0            0   \n",
      "4               0           0            1            0            0   \n",
      "...           ...         ...          ...          ...          ...   \n",
      "19109           0           0            0            0            0   \n",
      "19110           0           0            0            0            0   \n",
      "19111           0           0            0            0            0   \n",
      "19112           1           0            0            0            0   \n",
      "19113           0           0            0            0            0   \n",
      "\n",
      "       GPO EDAD_13  cluster  \n",
      "0                1        0  \n",
      "1                1        3  \n",
      "2                1        3  \n",
      "3                0        3  \n",
      "4                0        0  \n",
      "...            ...      ...  \n",
      "19109            0        2  \n",
      "19110            0        0  \n",
      "19111            0        3  \n",
      "19112            0        4  \n",
      "19113            0        3  \n",
      "\n",
      "[19114 rows x 28 columns]\n"
     ]
    }
   ],
   "source": [
    "print(df_copy)"
   ]
  }
 ],
 "metadata": {
  "colab": {
   "provenance": []
  },
  "kernelspec": {
   "display_name": "Python 3 (ipykernel)",
   "language": "python",
   "name": "python3"
  },
  "language_info": {
   "codemirror_mode": {
    "name": "ipython",
    "version": 3
   },
   "file_extension": ".py",
   "mimetype": "text/x-python",
   "name": "python",
   "nbconvert_exporter": "python",
   "pygments_lexer": "ipython3",
   "version": "3.11.4"
  }
 },
 "nbformat": 4,
 "nbformat_minor": 4
}
