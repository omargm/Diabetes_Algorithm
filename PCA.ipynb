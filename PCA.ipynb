{
 "cells": [
  {
   "cell_type": "code",
   "execution_count": null,
   "metadata": {
    "id": "erktcNYvs6sv"
   },
   "outputs": [],
   "source": [
    "import pandas as pd\n"
   ]
  },
  {
   "cell_type": "code",
   "execution_count": null,
   "metadata": {
    "colab": {
     "base_uri": "https://localhost:8080/"
    },
    "id": "TKfZ-LdCtFi_",
    "outputId": "5bd5ba16-aae0-4420-a274-274026c9d26f"
   },
   "outputs": [
    {
     "name": "stdout",
     "output_type": "stream",
     "text": [
      "title: HERMOSILLO_ESTANDARIZADO_ENF0.xlsx, mimeType: application/vnd.openxmlformats-officedocument.spreadsheetml.sheet\n"
     ]
    }
   ],
   "source": [
    "file_id='#'\n",
    "downloaded = drive.CreateFile({'id': file_id})\n",
    "print('title: %s, mimeType: %s' % (downloaded['title'], downloaded['mimeType']))\n",
    "downloaded.GetContentFile(downloaded['title'],mimetype='application/vnd.openxmlformats-officedocument.spreadsheetml.sheet')\n",
    "\n",
    "df = pd.read_excel(downloaded['title'],sheet_name='Hoja1')"
   ]
  },
  {
   "cell_type": "code",
   "execution_count": null,
   "metadata": {
    "id": "cpUDZYnNui6k"
   },
   "outputs": [],
   "source": [
    "df = pd.get_dummies(df, columns=['GPO EDAD'])"
   ]
  },
  {
   "cell_type": "code",
   "execution_count": null,
   "metadata": {
    "id": "VVMb31jauom2"
   },
   "outputs": [],
   "source": [
    "df = df.drop(df.columns[[0, 1, 2]], axis=1)"
   ]
  },
  {
   "cell_type": "code",
   "execution_count": null,
   "metadata": {
    "id": "dh7K3aERu4p4"
   },
   "outputs": [],
   "source": [
    "df = df[[ 'DIABETES', 'SEXO', 'GPO EDAD_0', 'GPO EDAD_1', 'GPO EDAD_2', 'GPO EDAD_3', 'GPO EDAD_4', 'GPO EDAD_5', 'GPO EDAD_6', 'GPO EDAD_7',\n",
    "         'GPO EDAD_8', 'GPO EDAD_9', 'GPO EDAD_10', 'GPO EDAD_11', 'GPO EDAD_12', 'GPO EDAD_13', 'ESPOSA', 'ESPOSO', 'HIJA', 'HIJO', 'MADRE', 'PADRE',\n",
    "         'CARDIOVASCULAR', 'GASTROPARESIA', 'NEFROPATIA', 'NEUROPATIA', 'AUDITIVA', 'PIEL', 'OCULAR', 'ATROPATIA', 'OBESIDAD', 'ASEGURADO']]"
   ]
  },
  {
   "cell_type": "code",
   "execution_count": null,
   "metadata": {
    "colab": {
     "base_uri": "https://localhost:8080/"
    },
    "id": "TWkeH-m2Qx8-",
    "outputId": "4ef2b5d3-53e5-4639-cb35-37fbafbcb109"
   },
   "outputs": [
    {
     "data": {
      "text/plain": [
       "['DIABETES',\n",
       " 'SEXO',\n",
       " 'GPO EDAD_0',\n",
       " 'GPO EDAD_1',\n",
       " 'GPO EDAD_2',\n",
       " 'GPO EDAD_3',\n",
       " 'GPO EDAD_4',\n",
       " 'GPO EDAD_5',\n",
       " 'GPO EDAD_6',\n",
       " 'GPO EDAD_7',\n",
       " 'GPO EDAD_8',\n",
       " 'GPO EDAD_9',\n",
       " 'GPO EDAD_10',\n",
       " 'GPO EDAD_11',\n",
       " 'GPO EDAD_12',\n",
       " 'GPO EDAD_13',\n",
       " 'ESPOSA',\n",
       " 'ESPOSO',\n",
       " 'HIJA',\n",
       " 'HIJO',\n",
       " 'MADRE',\n",
       " 'PADRE',\n",
       " 'CARDIOVASCULAR',\n",
       " 'GASTROPARESIA',\n",
       " 'NEFROPATIA',\n",
       " 'NEUROPATIA',\n",
       " 'AUDITIVA',\n",
       " 'PIEL',\n",
       " 'OCULAR',\n",
       " 'ATROPATIA',\n",
       " 'OBESIDAD',\n",
       " 'ASEGURADO']"
      ]
     },
     "execution_count": 6,
     "metadata": {},
     "output_type": "execute_result"
    }
   ],
   "source": [
    "#obtenemos las columnas del dataframe\n",
    "columnas = list(df.columns.values)\n",
    "columnas"
   ]
  },
  {
   "cell_type": "markdown",
   "metadata": {
    "id": "rC2wXMZ1t7PC"
   },
   "source": [
    "### Standardize the Data"
   ]
  },
  {
   "cell_type": "code",
   "execution_count": null,
   "metadata": {
    "id": "HX4S3ulat8UR"
   },
   "outputs": [],
   "source": [
    "from sklearn.preprocessing import StandardScaler\n",
    "\n",
    "# Separating out the features\n",
    "x = df.loc[:, columnas].values\n",
    "\n",
    "# Separating out the target\n",
    "#y = df.loc[:,['target']].values\n",
    "\n",
    "# Standardizing the features\n",
    "x = StandardScaler().fit_transform(x)"
   ]
  },
  {
   "cell_type": "code",
   "execution_count": null,
   "metadata": {
    "colab": {
     "base_uri": "https://localhost:8080/",
     "height": 234
    },
    "id": "PSKdRF1HvQdz",
    "outputId": "de303f34-d91f-404d-8d46-a973dc12a9de"
   },
   "outputs": [
    {
     "data": {
      "text/html": [
       "<div>\n",
       "<style scoped>\n",
       "    .dataframe tbody tr th:only-of-type {\n",
       "        vertical-align: middle;\n",
       "    }\n",
       "\n",
       "    .dataframe tbody tr th {\n",
       "        vertical-align: top;\n",
       "    }\n",
       "\n",
       "    .dataframe thead th {\n",
       "        text-align: right;\n",
       "    }\n",
       "</style>\n",
       "<table border=\"1\" class=\"dataframe\">\n",
       "  <thead>\n",
       "    <tr style=\"text-align: right;\">\n",
       "      <th></th>\n",
       "      <th>DIABETES</th>\n",
       "      <th>SEXO</th>\n",
       "      <th>GPO EDAD_0</th>\n",
       "      <th>GPO EDAD_1</th>\n",
       "      <th>GPO EDAD_2</th>\n",
       "      <th>GPO EDAD_3</th>\n",
       "      <th>GPO EDAD_4</th>\n",
       "      <th>GPO EDAD_5</th>\n",
       "      <th>GPO EDAD_6</th>\n",
       "      <th>GPO EDAD_7</th>\n",
       "      <th>GPO EDAD_8</th>\n",
       "      <th>GPO EDAD_9</th>\n",
       "      <th>GPO EDAD_10</th>\n",
       "      <th>GPO EDAD_11</th>\n",
       "      <th>GPO EDAD_12</th>\n",
       "      <th>GPO EDAD_13</th>\n",
       "      <th>ESPOSA</th>\n",
       "      <th>ESPOSO</th>\n",
       "      <th>HIJA</th>\n",
       "      <th>HIJO</th>\n",
       "      <th>MADRE</th>\n",
       "      <th>PADRE</th>\n",
       "      <th>CARDIOVASCULAR</th>\n",
       "      <th>GASTROPARESIA</th>\n",
       "      <th>NEFROPATIA</th>\n",
       "      <th>NEUROPATIA</th>\n",
       "      <th>AUDITIVA</th>\n",
       "      <th>PIEL</th>\n",
       "      <th>OCULAR</th>\n",
       "      <th>ATROPATIA</th>\n",
       "      <th>OBESIDAD</th>\n",
       "      <th>ASEGURADO</th>\n",
       "    </tr>\n",
       "  </thead>\n",
       "  <tbody>\n",
       "    <tr>\n",
       "      <th>0</th>\n",
       "      <td>-0.176530</td>\n",
       "      <td>-1.106649</td>\n",
       "      <td>-0.286247</td>\n",
       "      <td>-0.348339</td>\n",
       "      <td>-0.381742</td>\n",
       "      <td>-0.346637</td>\n",
       "      <td>-0.215831</td>\n",
       "      <td>-0.160536</td>\n",
       "      <td>-0.243534</td>\n",
       "      <td>-0.283025</td>\n",
       "      <td>-0.301051</td>\n",
       "      <td>-0.284839</td>\n",
       "      <td>-0.255000</td>\n",
       "      <td>-0.235652</td>\n",
       "      <td>-0.203954</td>\n",
       "      <td>3.643072</td>\n",
       "      <td>-0.672244</td>\n",
       "      <td>-0.514199</td>\n",
       "      <td>-0.547144</td>\n",
       "      <td>-0.549473</td>\n",
       "      <td>-0.095125</td>\n",
       "      <td>16.495145</td>\n",
       "      <td>-0.145657</td>\n",
       "      <td>-0.111046</td>\n",
       "      <td>-0.080332</td>\n",
       "      <td>-0.066774</td>\n",
       "      <td>-0.058347</td>\n",
       "      <td>-0.057698</td>\n",
       "      <td>-0.027072</td>\n",
       "      <td>-0.021875</td>\n",
       "      <td>-0.016854</td>\n",
       "      <td>-0.718879</td>\n",
       "    </tr>\n",
       "    <tr>\n",
       "      <th>1</th>\n",
       "      <td>-0.176530</td>\n",
       "      <td>0.903629</td>\n",
       "      <td>-0.286247</td>\n",
       "      <td>-0.348339</td>\n",
       "      <td>-0.381742</td>\n",
       "      <td>-0.346637</td>\n",
       "      <td>-0.215831</td>\n",
       "      <td>-0.160536</td>\n",
       "      <td>-0.243534</td>\n",
       "      <td>-0.283025</td>\n",
       "      <td>-0.301051</td>\n",
       "      <td>-0.284839</td>\n",
       "      <td>-0.255000</td>\n",
       "      <td>-0.235652</td>\n",
       "      <td>-0.203954</td>\n",
       "      <td>3.643072</td>\n",
       "      <td>-0.672244</td>\n",
       "      <td>-0.514199</td>\n",
       "      <td>-0.547144</td>\n",
       "      <td>-0.549473</td>\n",
       "      <td>10.512453</td>\n",
       "      <td>-0.060624</td>\n",
       "      <td>6.865459</td>\n",
       "      <td>-0.111046</td>\n",
       "      <td>-0.080332</td>\n",
       "      <td>-0.066774</td>\n",
       "      <td>-0.058347</td>\n",
       "      <td>-0.057698</td>\n",
       "      <td>-0.027072</td>\n",
       "      <td>-0.021875</td>\n",
       "      <td>-0.016854</td>\n",
       "      <td>-0.718879</td>\n",
       "    </tr>\n",
       "    <tr>\n",
       "      <th>2</th>\n",
       "      <td>-0.176530</td>\n",
       "      <td>0.903629</td>\n",
       "      <td>-0.286247</td>\n",
       "      <td>-0.348339</td>\n",
       "      <td>-0.381742</td>\n",
       "      <td>-0.346637</td>\n",
       "      <td>-0.215831</td>\n",
       "      <td>-0.160536</td>\n",
       "      <td>-0.243534</td>\n",
       "      <td>-0.283025</td>\n",
       "      <td>-0.301051</td>\n",
       "      <td>-0.284839</td>\n",
       "      <td>-0.255000</td>\n",
       "      <td>-0.235652</td>\n",
       "      <td>-0.203954</td>\n",
       "      <td>3.643072</td>\n",
       "      <td>-0.672244</td>\n",
       "      <td>-0.514199</td>\n",
       "      <td>-0.547144</td>\n",
       "      <td>-0.549473</td>\n",
       "      <td>-0.095125</td>\n",
       "      <td>-0.060624</td>\n",
       "      <td>-0.145657</td>\n",
       "      <td>-0.111046</td>\n",
       "      <td>-0.080332</td>\n",
       "      <td>-0.066774</td>\n",
       "      <td>-0.058347</td>\n",
       "      <td>-0.057698</td>\n",
       "      <td>-0.027072</td>\n",
       "      <td>-0.021875</td>\n",
       "      <td>-0.016854</td>\n",
       "      <td>-0.718879</td>\n",
       "    </tr>\n",
       "    <tr>\n",
       "      <th>3</th>\n",
       "      <td>-0.176530</td>\n",
       "      <td>0.903629</td>\n",
       "      <td>-0.286247</td>\n",
       "      <td>-0.348339</td>\n",
       "      <td>-0.381742</td>\n",
       "      <td>-0.346637</td>\n",
       "      <td>-0.215831</td>\n",
       "      <td>-0.160536</td>\n",
       "      <td>-0.243534</td>\n",
       "      <td>-0.283025</td>\n",
       "      <td>-0.301051</td>\n",
       "      <td>-0.284839</td>\n",
       "      <td>3.921569</td>\n",
       "      <td>-0.235652</td>\n",
       "      <td>-0.203954</td>\n",
       "      <td>-0.274494</td>\n",
       "      <td>1.487555</td>\n",
       "      <td>-0.514199</td>\n",
       "      <td>-0.547144</td>\n",
       "      <td>-0.549473</td>\n",
       "      <td>-0.095125</td>\n",
       "      <td>-0.060624</td>\n",
       "      <td>-0.145657</td>\n",
       "      <td>-0.111046</td>\n",
       "      <td>-0.080332</td>\n",
       "      <td>-0.066774</td>\n",
       "      <td>-0.058347</td>\n",
       "      <td>-0.057698</td>\n",
       "      <td>-0.027072</td>\n",
       "      <td>-0.021875</td>\n",
       "      <td>-0.016854</td>\n",
       "      <td>1.391054</td>\n",
       "    </tr>\n",
       "    <tr>\n",
       "      <th>4</th>\n",
       "      <td>5.664761</td>\n",
       "      <td>-1.106649</td>\n",
       "      <td>-0.286247</td>\n",
       "      <td>-0.348339</td>\n",
       "      <td>-0.381742</td>\n",
       "      <td>-0.346637</td>\n",
       "      <td>-0.215831</td>\n",
       "      <td>-0.160536</td>\n",
       "      <td>-0.243534</td>\n",
       "      <td>-0.283025</td>\n",
       "      <td>-0.301051</td>\n",
       "      <td>-0.284839</td>\n",
       "      <td>3.921569</td>\n",
       "      <td>-0.235652</td>\n",
       "      <td>-0.203954</td>\n",
       "      <td>-0.274494</td>\n",
       "      <td>-0.672244</td>\n",
       "      <td>1.944774</td>\n",
       "      <td>-0.547144</td>\n",
       "      <td>-0.549473</td>\n",
       "      <td>-0.095125</td>\n",
       "      <td>-0.060624</td>\n",
       "      <td>-0.145657</td>\n",
       "      <td>-0.111046</td>\n",
       "      <td>-0.080332</td>\n",
       "      <td>-0.066774</td>\n",
       "      <td>-0.058347</td>\n",
       "      <td>-0.057698</td>\n",
       "      <td>-0.027072</td>\n",
       "      <td>-0.021875</td>\n",
       "      <td>-0.016854</td>\n",
       "      <td>1.391054</td>\n",
       "    </tr>\n",
       "  </tbody>\n",
       "</table>\n",
       "</div>"
      ],
      "text/plain": [
       "   DIABETES      SEXO  GPO EDAD_0  ...  ATROPATIA  OBESIDAD  ASEGURADO\n",
       "0 -0.176530 -1.106649   -0.286247  ...  -0.021875 -0.016854  -0.718879\n",
       "1 -0.176530  0.903629   -0.286247  ...  -0.021875 -0.016854  -0.718879\n",
       "2 -0.176530  0.903629   -0.286247  ...  -0.021875 -0.016854  -0.718879\n",
       "3 -0.176530  0.903629   -0.286247  ...  -0.021875 -0.016854   1.391054\n",
       "4  5.664761 -1.106649   -0.286247  ...  -0.021875 -0.016854   1.391054\n",
       "\n",
       "[5 rows x 32 columns]"
      ]
     },
     "execution_count": 8,
     "metadata": {
      "tags": []
     },
     "output_type": "execute_result"
    }
   ],
   "source": [
    "pd.DataFrame(data = x, columns = columnas).head()"
   ]
  },
  {
   "cell_type": "markdown",
   "metadata": {
    "id": "_m4jkImb199_"
   },
   "source": [
    "### The next step is to rescale our data to a range between 0 and 1, with MinMaxScaler from sklearn"
   ]
  },
  {
   "cell_type": "code",
   "execution_count": null,
   "metadata": {
    "id": "iK4zoqJL4QCY"
   },
   "outputs": [],
   "source": [
    "import numpy as np\n",
    "from sklearn.decomposition import PCA\n",
    "from sklearn.preprocessing import MinMaxScaler\n",
    "import matplotlib.pyplot as plt"
   ]
  },
  {
   "cell_type": "code",
   "execution_count": null,
   "metadata": {
    "id": "_rvR39Rj1uxT"
   },
   "outputs": [],
   "source": [
    "scaler = MinMaxScaler(feature_range=[0, 1])\n",
    "df_rescaled = scaler.fit_transform(df.iloc[1:, 0:32])"
   ]
  },
  {
   "cell_type": "markdown",
   "metadata": {
    "id": "_hzI5c8z3ZgW"
   },
   "source": [
    "### Calculate the explained variance for each attribute by using scikit-learn, and plot the result"
   ]
  },
  {
   "cell_type": "code",
   "execution_count": null,
   "metadata": {
    "colab": {
     "base_uri": "https://localhost:8080/",
     "height": 279
    },
    "id": "DgmDLYcc3U7t",
    "outputId": "0ac52b86-8b41-49da-811e-2660125cc652"
   },
   "outputs": [
    {
     "data": {
      "image/png": "[encoded data removed]",
      "text/plain": [
       "<Figure size 432x288 with 1 Axes>"
      ]
     },
     "metadata": {
      "needs_background": "light"
     },
     "output_type": "display_data"
    }
   ],
   "source": [
    "#Fitting the PCA algorithm with our Data\n",
    "pca = PCA().fit(df_rescaled)\n",
    "\n",
    "#Plotting the Cumulative Summation of the Explained Variance\n",
    "acp = plt.figure()\n",
    "plt.plot(np.cumsum(pca.explained_variance_ratio_))\n",
    "plt.xlabel('Number of components')\n",
    "plt.ylabel('Variance (%)') #for each component\n",
    "plt.axvline(x=23, c='r', ls='dotted')\n",
    "plt.axhline(y=0.9949573498715483, c='r', ls='dotted')\n",
    "acp.show()"
   ]
  },
  {
   "cell_type": "code",
   "execution_count": null,
   "metadata": {
    "id": "o_2Dv2hS5m6_"
   },
   "outputs": [],
   "source": [
    "pca = PCA(n_components=23)\n",
    "dataset = pca.fit_transform(df_rescaled)"
   ]
  },
  {
   "cell_type": "code",
   "execution_count": null,
   "metadata": {
    "id": "qRMAX2lrRZw7"
   },
   "outputs": [],
   "source": [
    "print(np.sum(pca.explained_variance_ratio_))"
   ]
  }
 ],
 "metadata": {
  "colab": {
   "provenance": []
  },
  "kernelspec": {
   "display_name": "Python 3 (ipykernel)",
   "language": "python",
   "name": "python3"
  },
  "language_info": {
   "codemirror_mode": {
    "name": "ipython",
    "version": 3
   },
   "file_extension": ".py",
   "mimetype": "text/x-python",
   "name": "python",
   "nbconvert_exporter": "python",
   "pygments_lexer": "ipython3",
   "version": "3.11.4"
  }
 },
 "nbformat": 4,
 "nbformat_minor": 4
}
